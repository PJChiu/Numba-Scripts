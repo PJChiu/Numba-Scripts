{
 "cells": [
  {
   "cell_type": "markdown",
   "metadata": {},
   "source": [
    "# GTC 2020 Numba Tutorial Notebook 1: NumPy and Numba on the CPU\n",
    "\n",
    "Although this is a GPU tutorial, it helps to start with some fundamentals on the CPU. (Don't worry, they will carry over to the GPU.  We promise!)  Following the tips in this notebook in your CPU code will put you in a good position to GPU-accelerate the parts that need it.\n",
    "\n",
    "\n",
    "## What is NumPy?\n",
    "\n",
    "NumPy is a very popular Python library for efficiently working with large amounts of numerical data.  Even if you haven't used NumPy directly, many popular libraries depend on NumPy, such as pandas, scikit-learn, matplotlib, and statsmodels.  Learning to use NumPy is *the most important thing you can do to speed up your numerical applications*.  Those skills will transfer to the GPU, whether you use CuPy, TensorFlow, PyTorch, JAX or some other GPU-accelerated array library.\n",
    "\n",
    "Although this tutorial is not an introduction to NumPy, we want to stop and reflect on the three major components of NumPy.  We will see them in the next notebook on the GPU."
   ]
  },
  {
   "cell_type": "code",
   "execution_count": 1,
   "metadata": {},
   "outputs": [],
   "source": [
    "import numpy as np"
   ]
  },
  {
   "cell_type": "markdown",
   "metadata": {},
   "source": [
    "### 1. A multidimensional, homogeneous array type, along with a type system for array elements (called \"dtypes\")\n",
    "\n",
    "A NumPy array is described by several attributes (skipping a few for clarity):\n",
    "\n",
    "* data: a pointer to a data buffer with the actual array values\n",
    "* dtype: the data type of each array element.  Ex: `float32`, `int64`, `complex128`\n",
    "* shape: size of each array dimension.  Ex: 1D = `(4,)`, 2D = `(6,8)`, 3D = `(2, 4, 8)`\n",
    "* strides: the number of bytes that separate elements as you move along each dimension\n",
    "\n",
    "NumPy offers a number of functions for allocating arrays"
   ]
  },
  {
   "cell_type": "code",
   "execution_count": 2,
   "metadata": {},
   "outputs": [
    {
     "name": "stdout",
     "output_type": "stream",
     "text": [
      "array([[0., 0., 0.],\n",
      "       [0., 0., 0.]])\n",
      "float64\n",
      "(2, 3)\n",
      "(24, 8)\n"
     ]
    }
   ],
   "source": [
    "x = np.zeros(shape=(2,3), dtype=np.float64)\n",
    "print(repr(x))\n",
    "print(x.dtype)\n",
    "print(x.shape)\n",
    "print(x.strides)"
   ]
  },
  {
   "cell_type": "code",
   "execution_count": 3,
   "metadata": {},
   "outputs": [
    {
     "data": {
      "text/plain": [
       "array([[[1, 1, 1, 1],\n",
       "        [1, 1, 1, 1],\n",
       "        [1, 1, 1, 1]],\n",
       "\n",
       "       [[1, 1, 1, 1],\n",
       "        [1, 1, 1, 1],\n",
       "        [1, 1, 1, 1]]], dtype=int32)"
      ]
     },
     "execution_count": 3,
     "metadata": {},
     "output_type": "execute_result"
    }
   ],
   "source": [
    "y = np.ones(shape=(2,3,4), dtype=np.int32)\n",
    "y"
   ]
  },
  {
   "cell_type": "code",
   "execution_count": 4,
   "metadata": {},
   "outputs": [
    {
     "data": {
      "text/plain": [
       "array([ 0.00000000e+000+0.00000000e+000j,\n",
       "        6.94624563e-310+3.04464030e-230j,\n",
       "        6.94624582e-310+6.94624625e-310j,\n",
       "       -9.47770033e-100+6.94624606e-310j,\n",
       "        6.94624563e-310-6.49175655e-018j,\n",
       "        6.94624606e-310+6.94624563e-310j,\n",
       "        1.37149694e+197+6.94624563e-310j,\n",
       "        6.94624563e-310+3.68711166e+172j,\n",
       "        6.94624563e-310+6.94624563e-310j,\n",
       "       -1.75301777e-138+6.94624563e-310j])"
      ]
     },
     "execution_count": 4,
     "metadata": {},
     "output_type": "execute_result"
    }
   ],
   "source": [
    "# empty doesn't initialize the contents of the array, so only use this\n",
    "# if you are planning to overwrite every element yourself!\n",
    "z = np.empty(shape=10, dtype=np.complex128)\n",
    "z"
   ]
  },
  {
   "cell_type": "markdown",
   "metadata": {},
   "source": [
    "Note that slicing of NumPy arrays (like a Python list) results in a *view* on the array.  This makes slicing very fast and memory efficient, but be careful if you change the contents of a view, the original array changes as well:"
   ]
  },
  {
   "cell_type": "code",
   "execution_count": 5,
   "metadata": {},
   "outputs": [
    {
     "name": "stdout",
     "output_type": "stream",
     "text": [
      "[ 0  1  2  3  4  5  6  7  8  9 10 11 12 13 14 15 16 17 18 19]\n",
      "(8,)\n"
     ]
    }
   ],
   "source": [
    "orig = np.arange(20)\n",
    "print(orig)\n",
    "print(orig.strides)"
   ]
  },
  {
   "cell_type": "code",
   "execution_count": 6,
   "metadata": {},
   "outputs": [
    {
     "name": "stdout",
     "output_type": "stream",
     "text": [
      "[ 0  3  6  9 12 15 18]\n",
      "(24,)\n",
      "view: [ 0 99  6  9 12 15 18]\n",
      "original array: [ 0  1  2 99  4  5  6  7  8  9 10 11 12 13 14 15 16 17 18 19]\n"
     ]
    }
   ],
   "source": [
    "view = orig[::3]  # every third element\n",
    "print(view)\n",
    "print(view.strides)\n",
    "view[1] = 99\n",
    "print('view:', view)\n",
    "print('original array:', orig)"
   ]
  },
  {
   "cell_type": "markdown",
   "metadata": {},
   "source": [
    "### 2. A \"universal function\" paradigm for operating on arrays with different numbers of dimensions\n",
    "\n",
    "NumPy defines a \"universal function\" (\"ufunc\" for short) to be a function that operates on each element in an array, or combine single elements from several input arrays.  A ufunc takes as inputs arrays with different numbers of dimensions, or even scalar values, and returns a new array.  The process by which array elements are matched up is called *broadcasting*.\n",
    "\n",
    "It is probably easiest to show what happens by example.  We'll use the NumPy `add` ufunc to demonstrate what happens:"
   ]
  },
  {
   "cell_type": "code",
   "execution_count": 7,
   "metadata": {},
   "outputs": [
    {
     "data": {
      "text/plain": [
       "array([11, 22, 33, 44])"
      ]
     },
     "execution_count": 7,
     "metadata": {},
     "output_type": "execute_result"
    }
   ],
   "source": [
    "import numpy as np\n",
    "\n",
    "a = np.array([1, 2, 3, 4])\n",
    "b = np.array([10, 20, 30, 40])\n",
    "\n",
    "np.add(a, b)"
   ]
  },
  {
   "cell_type": "markdown",
   "metadata": {},
   "source": [
    "Ufuncs also can combine scalars with arrays:"
   ]
  },
  {
   "cell_type": "code",
   "execution_count": 8,
   "metadata": {},
   "outputs": [
    {
     "data": {
      "text/plain": [
       "array([101, 102, 103, 104])"
      ]
     },
     "execution_count": 8,
     "metadata": {},
     "output_type": "execute_result"
    }
   ],
   "source": [
    "np.add(a, 100)"
   ]
  },
  {
   "cell_type": "markdown",
   "metadata": {},
   "source": [
    "Arrays of different, but compatible dimensions can also be combined.  The lower dimensional array will be replicated along additional axes to match the dimensionality of the higher dimensional array:"
   ]
  },
  {
   "cell_type": "code",
   "execution_count": 9,
   "metadata": {},
   "outputs": [
    {
     "name": "stdout",
     "output_type": "stream",
     "text": [
      "b: [10 20 30 40]\n",
      "c: [[ 0  1  2  3]\n",
      " [ 4  5  6  7]\n",
      " [ 8  9 10 11]\n",
      " [12 13 14 15]]\n"
     ]
    },
    {
     "data": {
      "text/plain": [
       "array([[10, 21, 32, 43],\n",
       "       [14, 25, 36, 47],\n",
       "       [18, 29, 40, 51],\n",
       "       [22, 33, 44, 55]])"
      ]
     },
     "execution_count": 9,
     "metadata": {},
     "output_type": "execute_result"
    }
   ],
   "source": [
    "print('b:', b)\n",
    "c = np.arange(4*4).reshape((4,4))\n",
    "print('c:', c)\n",
    "\n",
    "np.add(b, c)"
   ]
  },
  {
   "cell_type": "markdown",
   "metadata": {},
   "source": [
    "In the above situation, the `b` array is added to each row of `c`.  If we want to add `b` to each column, we need to transpose it.  There are several ways to do this, but one way is to insert a new axis using `np.newaxis`:"
   ]
  },
  {
   "cell_type": "code",
   "execution_count": 10,
   "metadata": {},
   "outputs": [
    {
     "data": {
      "text/plain": [
       "array([[10],\n",
       "       [20],\n",
       "       [30],\n",
       "       [40]])"
      ]
     },
     "execution_count": 10,
     "metadata": {},
     "output_type": "execute_result"
    }
   ],
   "source": [
    "b_col = b[:, np.newaxis]\n",
    "b_col"
   ]
  },
  {
   "cell_type": "code",
   "execution_count": 11,
   "metadata": {},
   "outputs": [
    {
     "name": "stdout",
     "output_type": "stream",
     "text": [
      "b_col: [[10]\n",
      " [20]\n",
      " [30]\n",
      " [40]]\n",
      "c: [[ 0  1  2  3]\n",
      " [ 4  5  6  7]\n",
      " [ 8  9 10 11]\n",
      " [12 13 14 15]]\n"
     ]
    },
    {
     "data": {
      "text/plain": [
       "array([[10, 11, 12, 13],\n",
       "       [24, 25, 26, 27],\n",
       "       [38, 39, 40, 41],\n",
       "       [52, 53, 54, 55]])"
      ]
     },
     "execution_count": 11,
     "metadata": {},
     "output_type": "execute_result"
    }
   ],
   "source": [
    "print('b_col:', b_col)\n",
    "print('c:', c)\n",
    "np.add(b_col, c)"
   ]
  },
  {
   "cell_type": "markdown",
   "metadata": {},
   "source": [
    "The NumPy documentation has a much more extensive discussion of ufuncs:\n",
    "\n",
    "https://docs.scipy.org/doc/numpy/reference/ufuncs.html"
   ]
  },
  {
   "cell_type": "markdown",
   "metadata": {},
   "source": [
    "### 3. A large library of array functions\n",
    "\n",
    "In addition to all the standard basic math operations (+,-,\\*,/), NumPy offers many additional classes of functions:\n",
    "\n",
    "* Lineary algebra\n",
    "* Special math functions (trig, exp/log, polynomials)\n",
    "* Cumulative functions\n",
    "* Logical (bool) operations\n",
    "* Random number generation\n",
    "\n",
    "Most of these functions are implemented using compiled C code, so they execute much faster than regular Python code. It is a good idea to be familiar with the array functions that NumPy offers so you don't reinvent the wheel in your own code."
   ]
  },
  {
   "cell_type": "markdown",
   "metadata": {},
   "source": [
    "### What are NumPy's limitations?\n",
    "\n",
    "NumPy is great, but there are some limitations.  Not every equation has been implemented as a fast NumPy ufunc already (especially if you are creating something new!).  When you need to go beyond what NumPy offers, you will have to fall back to Python, which will expose one of the following issues:\n",
    "\n",
    "* Looping over individual array elements in Python is very slow.\n",
    "\n",
    "When you need to write your own operations on NumPy arrays, doing it with for loops can be 100x slower than a native NumPy function.  For example, if you were implementing Conway's Game of Life, this very straightforward code (assume `count_neighbors()` is implemented elsewhere) would have poor performance:\n",
    "\n",
    "``` python\n",
    "def life_step(state):\n",
    "    new_state = np.empty_like(state)\n",
    "    \n",
    "    for i in range(new_state.shape[0]):\n",
    "        for j in range(new_state.shape[1]):\n",
    "            nbrs_count = count_neighbors(state, i, j)\n",
    "            if nbrs_count == 3 or (nbrs_count == 2 and state[i,j]):\n",
    "                new_state[i,j] = True\n",
    "            else:\n",
    "                new_state[i,j] = False\n",
    "                \n",
    "    return new_state\n",
    "```\n",
    "\n",
    "* Combining several NumPy ufuncs into a large expression can be both hard to read, and still too slow.\n",
    "\n",
    "Clever users of NumPy will find ways to subvert the looping issues by creating \"NumPy haikus\", which are terse combinations of several NumPy functions that accomplish the end goal without writing a loop.  My favorite example of this is the [Jake VanderPlas implementation of the Game of Life](https://jakevdp.github.io/blog/2013/08/07/conways-game-of-life/) time step function:\n",
    "\n",
    "``` python\n",
    "def life_step_1(X):\n",
    "    \"\"\"Game of life step using generator expressions\"\"\"\n",
    "    nbrs_count = sum(np.roll(np.roll(X, i, 0), j, 1)\n",
    "                     for i in (-1, 0, 1) for j in (-1, 0, 1)\n",
    "                     if (i != 0 or j != 0))\n",
    "    return (nbrs_count == 3) | (X & (nbrs_count == 2))\n",
    "```\n",
    "\n",
    "A beginning NumPy user will have no idea what is going on here, but this does in fact achieve the goal.  It also uses NumPy functions to do the majority of the looping, so it is easily 10x faster than the previous implementation.  However, this code results in the creation of at least 14 temporary arrays the size of the game board.  For performance critical code, that can still be a problem.\n",
    "\n",
    "* NumPy does not use the parallel execution capabilities of your computer.\n",
    "\n",
    "NumPy functions are (with some exceptions) not going to use multiple CPU cores, never mind the GPU.  You are on your own for parallelizing much of your code.\n",
    "\n",
    "\n",
    "All of the above limitations can be addressed by combining NumPy with another package, called *Numba*, which we'll talk about next."
   ]
  },
  {
   "cell_type": "markdown",
   "metadata": {},
   "source": [
    "## What is Numba?\n",
    "\n",
    "Numba is a **just-in-time**, **type-specializing**, **function compiler** for accelerating **numerically-focused** Python.  That's a long list, so let's break down those terms:\n",
    "\n",
    " * **function compiler**: Numba compiles Python functions, not entire applications, and not parts of functions.  Numba does not replace your Python interpreter, but is just another Python module that can turn a function into a (usually) faster function. \n",
    " * **type-specializing**: Numba speeds up your function by generating a specialized implementation for the specific data types you are using.  Python functions are designed to operate on generic data types, which makes them very flexible, but also very slow.  In practice, you only will call a function with a small number of argument types, so Numba will generate a fast implementation for each set of types.\n",
    " * **just-in-time**: Numba translates functions when they are first called.  This ensures the compiler knows what argument types you will be using.  This also allows Numba to be used interactively in a Jupyter notebook just as easily as a traditional application\n",
    " * **numerically-focused**: Currently, Numba is focused on numerical data types, like `int`, `float`, and `complex`.  There is very limited string processing support, and many string use cases are not going to work well on the GPU.  To get best results with Numba, you will likely be using NumPy arrays.\n",
    "\n",
    "### Requirements\n",
    "\n",
    "Numba supports a wide range of operating systems:\n",
    "\n",
    " * Windows 7 and later, 32 and 64-bit\n",
    " * macOS 10.9 and later, 64-bit\n",
    " * Linux (most anything >= RHEL 5), 32-bit and 64-bit\n",
    "\n",
    "and Python versions:\n",
    "\n",
    " * Python 3.6-3.8 *(If you need Python 2, Numba 0.47 is the last release)*\n",
    " * NumPy 1.15 and later\n",
    "\n",
    "and a very wide range of hardware:\n",
    "\n",
    "* x86, x86_64/AMD64 CPUs\n",
    "* NVIDIA CUDA GPUs (Compute capability 3.0 and later, CUDA 8.0 and later)\n",
    "* AMD GPUs (ROCm on Linux)\n",
    "* ARM 32-bit (Raspbery Pi) and 64-bit (Jetson TX2)\n",
    "* POWER8/9\n",
    "\n",
    "For this tutorial, we will be using Linux 64-bit, Python 3.7, and CUDA 10."
   ]
  },
  {
   "cell_type": "markdown",
   "metadata": {},
   "source": [
    "### First Steps\n",
    "\n",
    "Let's write our first Numba function and compile it for the **CPU**.  The Numba compiler is typically enabled by applying a *decorator* to a Python function.  Decorators are functions that transform Python functions.  Here we will use the CPU compilation decorator:"
   ]
  },
  {
   "cell_type": "code",
   "execution_count": 12,
   "metadata": {},
   "outputs": [],
   "source": [
    "from numba import jit\n",
    "import math\n",
    "\n",
    "@jit\n",
    "def hypot(x, y):\n",
    "    # Implementation from https://en.wikipedia.org/wiki/Hypot\n",
    "    x = abs(x);\n",
    "    y = abs(y);\n",
    "    t = min(x, y);\n",
    "    x = max(x, y);\n",
    "    t = t / x;\n",
    "    return x * math.sqrt(1+t*t)"
   ]
  },
  {
   "cell_type": "markdown",
   "metadata": {},
   "source": [
    "The above code is equivalent to writing:\n",
    "``` python\n",
    "def hypot(x, y):\n",
    "    x = abs(x);\n",
    "    y = abs(y);\n",
    "    t = min(x, y);\n",
    "    x = max(x, y);\n",
    "    t = t / x;\n",
    "    return x * math.sqrt(1+t*t)\n",
    "    \n",
    "hypot = jit(hypot)\n",
    "```\n",
    "This means that the Numba compiler is just a function you can call whenever you want!\n",
    "\n",
    "Let's try out our hypotenuse calculation:"
   ]
  },
  {
   "cell_type": "code",
   "execution_count": 13,
   "metadata": {},
   "outputs": [
    {
     "data": {
      "text/plain": [
       "5.0"
      ]
     },
     "execution_count": 13,
     "metadata": {},
     "output_type": "execute_result"
    }
   ],
   "source": [
    "hypot(3.0, 4.0)"
   ]
  },
  {
   "cell_type": "markdown",
   "metadata": {},
   "source": [
    "The first time we call `hypot`, the compiler is triggered and compiles a machine code implementation for float inputs.  Numba also saves the original Python implementation of the function in the `.py_func` attribute, so we can call the original Python code to make sure we get the same answer:"
   ]
  },
  {
   "cell_type": "code",
   "execution_count": 14,
   "metadata": {},
   "outputs": [
    {
     "data": {
      "text/plain": [
       "5.0"
      ]
     },
     "execution_count": 14,
     "metadata": {},
     "output_type": "execute_result"
    }
   ],
   "source": [
    "hypot.py_func(3.0, 4.0)"
   ]
  },
  {
   "cell_type": "markdown",
   "metadata": {},
   "source": [
    "### Benchmarking\n",
    "\n",
    "An important part of using Numba is measuring the performance of your new code.  Let's see if we actually sped anything up.  The easiest way to do this in the Jupyter notebook is to use the `%timeit` magic function.  Let's first measure the speed of the original Python:"
   ]
  },
  {
   "cell_type": "code",
   "execution_count": 15,
   "metadata": {},
   "outputs": [
    {
     "name": "stdout",
     "output_type": "stream",
     "text": [
      "632 ns ± 2.9 ns per loop (mean ± std. dev. of 7 runs, 1000000 loops each)\n"
     ]
    }
   ],
   "source": [
    "%timeit hypot.py_func(3.0, 4.0)"
   ]
  },
  {
   "cell_type": "markdown",
   "metadata": {},
   "source": [
    "The `%timeit` magic runs the statement many times to get an accurate estimate of the run time.  It also returns the best time by default, which is useful to reduce the probability that random background events affect your measurement.  The best of 3 approach also ensures that the compilation time on the first call doesn't skew the results:"
   ]
  },
  {
   "cell_type": "code",
   "execution_count": 16,
   "metadata": {},
   "outputs": [
    {
     "name": "stdout",
     "output_type": "stream",
     "text": [
      "184 ns ± 0.194 ns per loop (mean ± std. dev. of 7 runs, 10000000 loops each)\n"
     ]
    }
   ],
   "source": [
    "%timeit hypot(3.0, 4.0)"
   ]
  },
  {
   "cell_type": "markdown",
   "metadata": {},
   "source": [
    "Numba did a pretty good job with this function.  It's 3x faster than the pure Python version.\n",
    "\n",
    "Of course, the `hypot` function is already present in the Python module:"
   ]
  },
  {
   "cell_type": "code",
   "execution_count": 17,
   "metadata": {},
   "outputs": [
    {
     "name": "stdout",
     "output_type": "stream",
     "text": [
      "127 ns ± 0.231 ns per loop (mean ± std. dev. of 7 runs, 10000000 loops each)\n"
     ]
    }
   ],
   "source": [
    "%timeit math.hypot(3.0, 4.0)"
   ]
  },
  {
   "cell_type": "markdown",
   "metadata": {},
   "source": [
    "Python's built-in is even faster than Numba!  This is because Numba does introduce some overhead to each function call that is larger than the function call overhead of Python itself.  Extremely fast functions (like the above one) will be hurt by this.\n",
    "\n",
    "(However, if you call one Numba function from another one, there is very little function overhead, sometimes even zero if the compiler inlines the function into the other one.)"
   ]
  },
  {
   "cell_type": "markdown",
   "metadata": {},
   "source": [
    "### How does Numba work?\n",
    "\n",
    "The first time we called our Numba-wrapped `hypot` function, the following process was initiated:\n",
    "\n",
    "![Numba Flowchart](img/numba_flowchart.png \"The compilation process\")\n",
    "\n",
    "We can see the result of type inference by using the `.inspect_types()` method, which prints an annotated version of the source code:"
   ]
  },
  {
   "cell_type": "code",
   "execution_count": 18,
   "metadata": {
    "scrolled": true
   },
   "outputs": [
    {
     "name": "stdout",
     "output_type": "stream",
     "text": [
      "hypot (float64, float64)\n",
      "--------------------------------------------------------------------------------\n",
      "# File: <ipython-input-12-2d77e48c1ef7>\n",
      "# --- LINE 4 --- \n",
      "\n",
      "@jit\n",
      "\n",
      "# --- LINE 5 --- \n",
      "\n",
      "def hypot(x, y):\n",
      "\n",
      "    # --- LINE 6 --- \n",
      "\n",
      "    # Implementation from https://en.wikipedia.org/wiki/Hypot\n",
      "\n",
      "    # --- LINE 7 --- \n",
      "    # label 0\n",
      "    #   x = arg(0, name=x)  :: float64\n",
      "    #   y = arg(1, name=y)  :: float64\n",
      "    #   $2load_global.0 = global(abs: <built-in function abs>)  :: Function(<built-in function abs>)\n",
      "    #   $6call_function.2 = call $2load_global.0(x, func=$2load_global.0, args=[Var(x, <ipython-input-12-2d77e48c1ef7>:7)], kws=(), vararg=None)  :: (float64,) -> float64\n",
      "    #   del x\n",
      "    #   del $2load_global.0\n",
      "    #   x.1 = $6call_function.2  :: float64\n",
      "    #   del $6call_function.2\n",
      "\n",
      "    x = abs(x);\n",
      "\n",
      "    # --- LINE 8 --- \n",
      "    #   $10load_global.3 = global(abs: <built-in function abs>)  :: Function(<built-in function abs>)\n",
      "    #   $14call_function.5 = call $10load_global.3(y, func=$10load_global.3, args=[Var(y, <ipython-input-12-2d77e48c1ef7>:7)], kws=(), vararg=None)  :: (float64,) -> float64\n",
      "    #   del y\n",
      "    #   del $10load_global.3\n",
      "    #   y.1 = $14call_function.5  :: float64\n",
      "    #   del $14call_function.5\n",
      "\n",
      "    y = abs(y);\n",
      "\n",
      "    # --- LINE 9 --- \n",
      "    #   $18load_global.6 = global(min: <built-in function min>)  :: Function(<built-in function min>)\n",
      "    #   $24call_function.9 = call $18load_global.6(x.1, y.1, func=$18load_global.6, args=[Var(x.1, <ipython-input-12-2d77e48c1ef7>:7), Var(y.1, <ipython-input-12-2d77e48c1ef7>:8)], kws=(), vararg=None)  :: (float64, float64) -> float64\n",
      "    #   del $18load_global.6\n",
      "    #   t = $24call_function.9  :: float64\n",
      "    #   del $24call_function.9\n",
      "\n",
      "    t = min(x, y);\n",
      "\n",
      "    # --- LINE 10 --- \n",
      "    #   $28load_global.10 = global(max: <built-in function max>)  :: Function(<built-in function max>)\n",
      "    #   $34call_function.13 = call $28load_global.10(x.1, y.1, func=$28load_global.10, args=[Var(x.1, <ipython-input-12-2d77e48c1ef7>:7), Var(y.1, <ipython-input-12-2d77e48c1ef7>:8)], kws=(), vararg=None)  :: (float64, float64) -> float64\n",
      "    #   del y.1\n",
      "    #   del x.1\n",
      "    #   del $28load_global.10\n",
      "    #   x.2 = $34call_function.13  :: float64\n",
      "    #   del $34call_function.13\n",
      "\n",
      "    x = max(x, y);\n",
      "\n",
      "    # --- LINE 11 --- \n",
      "    #   $42binary_true_divide.16 = t / x.2  :: float64\n",
      "    #   del t\n",
      "    #   t.1 = $42binary_true_divide.16  :: float64\n",
      "    #   del $42binary_true_divide.16\n",
      "\n",
      "    t = t / x;\n",
      "\n",
      "    # --- LINE 12 --- \n",
      "    #   $48load_global.18 = global(math: <module 'math' from '/home/ricardo/anaconda3/envs/tensorflow_env/lib/python3.7/lib-dynload/math.cpython-37m-x86_64-linux-gnu.so'>)  :: Module(<module 'math' from '/home/ricardo/anaconda3/envs/tensorflow_env/lib/python3.7/lib-dynload/math.cpython-37m-x86_64-linux-gnu.so'>)\n",
      "    #   $50load_method.19 = getattr(value=$48load_global.18, attr=sqrt)  :: Function(<built-in function sqrt>)\n",
      "    #   del $48load_global.18\n",
      "    #   $const52.20 = const(int, 1)  :: Literal[int](1)\n",
      "    #   $58binary_multiply.23 = t.1 * t.1  :: float64\n",
      "    #   del t.1\n",
      "    #   $60binary_add.24 = $const52.20 + $58binary_multiply.23  :: float64\n",
      "    #   del $const52.20\n",
      "    #   del $58binary_multiply.23\n",
      "    #   $62call_method.25 = call $50load_method.19($60binary_add.24, func=$50load_method.19, args=[Var($60binary_add.24, <ipython-input-12-2d77e48c1ef7>:12)], kws=(), vararg=None)  :: (float64,) -> float64\n",
      "    #   del $60binary_add.24\n",
      "    #   del $50load_method.19\n",
      "    #   $64binary_multiply.26 = x.2 * $62call_method.25  :: float64\n",
      "    #   del x.2\n",
      "    #   del $62call_method.25\n",
      "    #   $66return_value.27 = cast(value=$64binary_multiply.26)  :: float64\n",
      "    #   del $64binary_multiply.26\n",
      "    #   return $66return_value.27\n",
      "\n",
      "    return x * math.sqrt(1+t*t)\n",
      "\n",
      "\n",
      "================================================================================\n"
     ]
    }
   ],
   "source": [
    "hypot.inspect_types()"
   ]
  },
  {
   "cell_type": "markdown",
   "metadata": {},
   "source": [
    "Note that Numba's type names tend to mirror the NumPy type names, so a Python `float` is a `float64` (also called \"double precision\" in other languages).  Taking a look at the data types can sometimes be important in GPU code because the performance of `float32` and `float64` computations will be very different on CUDA devices.  An accidental upcast can dramatically slow down a function."
   ]
  },
  {
   "cell_type": "markdown",
   "metadata": {},
   "source": [
    "### When Things Go Wrong\n",
    "\n",
    "Numba cannot compile all Python code.  Some functions don't have a Numba-translation, and some kinds of Python types can't be efficiently compiled at all (yet).  For example, Numba does not support frozenset (as of this tutorial):"
   ]
  },
  {
   "cell_type": "code",
   "execution_count": null,
   "metadata": {},
   "outputs": [],
   "source": [
    "@jit\n",
    "def cannot_compile(x):\n",
    "    return frozenset(x)\n",
    "\n",
    "cannot_compile('a')"
   ]
  },
  {
   "cell_type": "markdown",
   "metadata": {},
   "source": [
    "Wait, what are all the warnings about??  By default, Numba will fall back to a mode, called \"object mode,\" which does not do type-specialization.  Object mode exists to enable other Numba functionality, but in many cases, you want Numba to tell you if type inference fails.  You should force \"nopython mode\" (the other compilation mode) by passing arguments to the decorator:"
   ]
  },
  {
   "cell_type": "code",
   "execution_count": null,
   "metadata": {},
   "outputs": [],
   "source": [
    "@jit(nopython=True)\n",
    "def cannot_compile(x):\n",
    "    return frozenset(x)\n",
    "\n",
    "cannot_compile('a')"
   ]
  },
  {
   "cell_type": "markdown",
   "metadata": {},
   "source": [
    "Now we get a TypingError when Numba tries to compile the function, with an error that says:\n",
    "```\n",
    "- Untyped global name 'frozenset': cannot determine Numba type of <class 'type'>\n",
    "```\n",
    "which is the underlying problem.\n",
    "\n",
    "We will see other `@jit` decorator arguments in future sections."
   ]
  },
  {
   "cell_type": "markdown",
   "metadata": {},
   "source": [
    "# Exercise\n",
    "\n",
    "Below is a function that loops over two input NumPy arrays and puts their sum into the output array.  Modify this function to call the `hypot` function we defined above.  We will learn a more efficient way to write such functions in a future section.\n",
    "\n",
    "(Make sure to execute all the cells in this notebook so that `hypot` is defined.)"
   ]
  },
  {
   "cell_type": "code",
   "execution_count": null,
   "metadata": {},
   "outputs": [],
   "source": [
    "@jit(nopython=True)\n",
    "def ex1(x, y, out):\n",
    "    for i in range(x.shape[0]):\n",
    "        # Fix the body of the loop here!  Call hypot on the i'th element of x and y.\n",
    "        out[i] = 1"
   ]
  },
  {
   "cell_type": "code",
   "execution_count": null,
   "metadata": {},
   "outputs": [],
   "source": [
    "in1 = np.arange(10, dtype=np.float64)\n",
    "in2 = 2 * in1 + 1\n",
    "out = np.empty_like(in1)\n",
    "\n",
    "print('in1:', in1)\n",
    "print('in2:', in2)\n",
    "\n",
    "ex1(in1, in2, out)\n",
    "\n",
    "print('out:', out)"
   ]
  },
  {
   "cell_type": "code",
   "execution_count": null,
   "metadata": {},
   "outputs": [],
   "source": [
    "# This test will fail until you fix the ex1 function\n",
    "np.testing.assert_almost_equal(out, np.hypot(in1, in2))"
   ]
  },
  {
   "cell_type": "code",
   "execution_count": null,
   "metadata": {},
   "outputs": [],
   "source": []
  }
 ],
 "metadata": {
  "kernelspec": {
   "display_name": "Python 3",
   "language": "python",
   "name": "python3"
  },
  "language_info": {
   "codemirror_mode": {
    "name": "ipython",
    "version": 3
   },
   "file_extension": ".py",
   "mimetype": "text/x-python",
   "name": "python",
   "nbconvert_exporter": "python",
   "pygments_lexer": "ipython3",
   "version": "3.7.7"
  }
 },
 "nbformat": 4,
 "nbformat_minor": 2
}
